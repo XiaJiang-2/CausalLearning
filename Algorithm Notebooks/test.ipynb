{
 "cells": [
  {
   "cell_type": "code",
   "execution_count": 1,
   "metadata": {},
   "outputs": [],
   "source": [
    "import rpy2\n",
    "import rpy2.robjects as robjects\n",
    "from rpy2.robjects.packages import importr, data\n"
   ]
  },
  {
   "cell_type": "code",
   "execution_count": 2,
   "metadata": {},
   "outputs": [
    {
     "name": "stderr",
     "output_type": "stream",
     "text": [
      "R[write to console]: Installing package into 'C:/Users/17172/AppData/Local/R/win-library/4.2'\n",
      "(as 'lib' is unspecified)\n",
      "\n"
     ]
    },
    {
     "name": "stdout",
     "output_type": "stream",
     "text": [
      "--- Please select a CRAN mirror for use in this session ---\n"
     ]
    },
    {
     "name": "stderr",
     "output_type": "stream",
     "text": [
      "R[write to console]: trying URL 'https://cran.case.edu/bin/windows/contrib/4.2/MXM_1.5.5.zip'\n",
      "\n",
      "R[write to console]: Content type 'application/zip'\n",
      "R[write to console]:  length 3809609 bytes (3.6 MB)\n",
      "\n",
      "R[write to console]: downloaded 3.6 MB\n",
      "\n",
      "\n"
     ]
    },
    {
     "name": "stdout",
     "output_type": "stream",
     "text": [
      "package 'MXM' successfully unpacked and MD5 sums checked\n",
      "\n",
      "The downloaded binary packages are in\n",
      "\tC:\\Users\\17172\\AppData\\Local\\Temp\\RtmpG01aB3\\downloaded_packages\n"
     ]
    }
   ],
   "source": [
    "utils = importr('utils')\n",
    "base = importr('base')\n",
    "utils.install_packages('MXM')\n",
    "MXM = importr('MXM')"
   ]
  },
  {
   "cell_type": "code",
   "execution_count": 3,
   "metadata": {},
   "outputs": [
    {
     "name": "stdout",
     "output_type": "stream",
     "text": [
      "         ED_Visit Dyspnea COPD COVID\n",
      "ED_Visit        0       3    0     0\n",
      "Dyspnea         2       0    3     2\n",
      "COPD            0       2    0     0\n",
      "COVID           0       3    0     0\n"
     ]
    }
   ],
   "source": [
    "# Replace the file in read table with file to be turned into DAG\n",
    "x = robjects.r('''\n",
    "    x <- read.table(\"C:/Users/17172/Desktop/CausalLearning/sample_data/COVID3_4Nodes3.dat\", sep=\",\", header=TRUE)\n",
    "    df <- as.data.frame.matrix(x)\n",
    "    mat <- data.matrix(df)\n",
    "    skeleton <- pc.skel(mat)\n",
    "    DAG <- pc.or(skeleton)\n",
    "    print(DAG$G)\n",
    "''')\n",
    "#Output where a 3 represents a directional arrow from that column to that row and a 2 represents a directional arrow from that row to that column"
   ]
  }
 ],
 "metadata": {
  "kernelspec": {
   "display_name": "Python 3",
   "language": "python",
   "name": "python3"
  },
  "language_info": {
   "codemirror_mode": {
    "name": "ipython",
    "version": 3
   },
   "file_extension": ".py",
   "mimetype": "text/x-python",
   "name": "python",
   "nbconvert_exporter": "python",
   "pygments_lexer": "ipython3",
   "version": "3.11.0 (main, Oct 24 2022, 18:26:48) [MSC v.1933 64 bit (AMD64)]"
  },
  "orig_nbformat": 4,
  "vscode": {
   "interpreter": {
    "hash": "c261aea317cc0286b3b3261fbba9abdec21eaa57589985bb7a274bf54d6cc0a7"
   }
  }
 },
 "nbformat": 4,
 "nbformat_minor": 2
}
