{
 "cells": [
  {
   "cell_type": "code",
   "execution_count": 25,
   "metadata": {},
   "outputs": [],
   "source": [
    "import rpy2\n",
    "import rpy2.robjects as robjects\n",
    "from rpy2.robjects.packages import importr, data\n"
   ]
  },
  {
   "cell_type": "code",
   "execution_count": 26,
   "metadata": {},
   "outputs": [
    {
     "name": "stderr",
     "output_type": "stream",
     "text": [
      "R[write to console]: Warning:\n",
      "R[write to console]:  package 'MXM' is in use and will not be installed\n",
      "\n"
     ]
    }
   ],
   "source": [
    "utils = importr('utils')\n",
    "base = importr('base')\n",
    "utils.install_packages('MXM')\n",
    "MXM = importr('MXM')"
   ]
  },
  {
   "cell_type": "code",
   "execution_count": 27,
   "metadata": {},
   "outputs": [],
   "source": [
    "r_func_code = '''\n",
    "    function(file) {\n",
    "        x <- read.table(file, sep=\",\", header=TRUE)\n",
    "        df <- as.data.frame.matrix(x)\n",
    "        mat <- data.matrix(df)\n",
    "        skeleton <- pc.skel(mat)\n",
    "        DAG <- pc.or(skeleton)\n",
    "        print(DAG$G)\n",
    "    }'''\n",
    "\n"
   ]
  },
  {
   "cell_type": "code",
   "execution_count": 28,
   "metadata": {},
   "outputs": [
    {
     "name": "stdout",
     "output_type": "stream",
     "text": [
      "         ED_Visit Dyspnea COPD COVID\n",
      "ED_Visit        0       3    0     0\n",
      "Dyspnea         2       0    3     2\n",
      "COPD            0       2    0     0\n",
      "COVID           0       3    0     0\n"
     ]
    },
    {
     "data": {
      "text/html": [
       "\n",
       "        <span>FloatMatrix with 16 elements.</span>\n",
       "        <table>\n",
       "        <tbody>\n",
       "          <tr>\n",
       "          \n",
       "            <td>\n",
       "            0.000000\n",
       "            </td>\n",
       "          \n",
       "            <td>\n",
       "            2.000000\n",
       "            </td>\n",
       "          \n",
       "            <td>\n",
       "            0.000000\n",
       "            </td>\n",
       "          \n",
       "            <td>\n",
       "            ...\n",
       "            </td>\n",
       "          \n",
       "            <td>\n",
       "            2.000000\n",
       "            </td>\n",
       "          \n",
       "            <td>\n",
       "            0.000000\n",
       "            </td>\n",
       "          \n",
       "            <td>\n",
       "            0.000000\n",
       "            </td>\n",
       "          \n",
       "          </tr>\n",
       "        </tbody>\n",
       "        </table>\n",
       "        "
      ],
      "text/plain": [
       "<rpy2.robjects.vectors.FloatMatrix object at 0x000001AFC5AC9A10> [14]\n",
       "R classes: ('matrix', 'array')\n",
       "[0.000000, 2.000000, 0.000000, 0.000000, ..., 0.000000, 2.000000, 0.000000, 0.000000]"
      ]
     },
     "execution_count": 28,
     "metadata": {},
     "output_type": "execute_result"
    }
   ],
   "source": [
    "# Replace the file in read table with file to be turned into DAG\n",
    "r_func = robjects.r(r_func_code)\n",
    "r_func(\"C:/Users/17172/Desktop/CausalLearning/sample_data/COVID3_4Nodes3.dat\")\n",
    "#Output where a 3 represents a directional arrow from that column to that row and a 2 represents a directional arrow from that row to that column"
   ]
  }
 ],
 "metadata": {
  "kernelspec": {
   "display_name": "Python 3",
   "language": "python",
   "name": "python3"
  },
  "language_info": {
   "codemirror_mode": {
    "name": "ipython",
    "version": 3
   },
   "file_extension": ".py",
   "mimetype": "text/x-python",
   "name": "python",
   "nbconvert_exporter": "python",
   "pygments_lexer": "ipython3",
   "version": "3.11.0"
  },
  "orig_nbformat": 4,
  "vscode": {
   "interpreter": {
    "hash": "c261aea317cc0286b3b3261fbba9abdec21eaa57589985bb7a274bf54d6cc0a7"
   }
  }
 },
 "nbformat": 4,
 "nbformat_minor": 2
}
