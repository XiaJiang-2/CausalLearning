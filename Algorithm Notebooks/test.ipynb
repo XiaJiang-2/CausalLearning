{
 "cells": [
  {
   "cell_type": "code",
   "execution_count": 78,
   "metadata": {},
   "outputs": [],
   "source": [
    "import rpy2\n",
    "import rpy2.robjects as robjects\n",
    "from rpy2.robjects.packages import importr, data\n"
   ]
  },
  {
   "cell_type": "code",
   "execution_count": 79,
   "metadata": {},
   "outputs": [
    {
     "name": "stderr",
     "output_type": "stream",
     "text": [
      "R[write to console]: Warning:\n",
      "R[write to console]:  package 'MXM' is in use and will not be installed\n",
      "\n"
     ]
    }
   ],
   "source": [
    "utils = importr('utils')\n",
    "base = importr('base')\n",
    "utils.install_packages('MXM')\n",
    "MXM = importr('MXM')"
   ]
  },
  {
   "cell_type": "code",
   "execution_count": 81,
   "metadata": {},
   "outputs": [
    {
     "name": "stdout",
     "output_type": "stream",
     "text": [
      "         ED_Visit Dyspnea COPD COVID\n",
      "ED_Visit        0       3    0     0\n",
      "Dyspnea         2       0    3     2\n",
      "COPD            0       2    0     0\n",
      "COVID           0       3    0     0\n"
     ]
    }
   ],
   "source": [
    "# Replace the file in read table with file to be turned into DAG\n",
    "x = robjects.r('''\n",
    "    x <- read.table(\"C:/Users/17172/Desktop/CausalLearning/sample_data/COVID3_4Nodes3.dat\", sep=\",\", header=TRUE)\n",
    "    df <- as.data.frame.matrix(x)\n",
    "    mat <- data.matrix(df)\n",
    "    thing <- pc.skel(mat)\n",
    "    final <- pc.or(thing)\n",
    "    print(final$G)\n",
    "''')\n",
    "#Output where a 3 represents a directional arrow from that column to that row and a 2 represents a directional arrow from that row to that column"
   ]
  }
 ],
 "metadata": {
  "kernelspec": {
   "display_name": "Python 3",
   "language": "python",
   "name": "python3"
  },
  "language_info": {
   "codemirror_mode": {
    "name": "ipython",
    "version": 3
   },
   "file_extension": ".py",
   "mimetype": "text/x-python",
   "name": "python",
   "nbconvert_exporter": "python",
   "pygments_lexer": "ipython3",
   "version": "3.11.0"
  },
  "orig_nbformat": 4,
  "vscode": {
   "interpreter": {
    "hash": "c261aea317cc0286b3b3261fbba9abdec21eaa57589985bb7a274bf54d6cc0a7"
   }
  }
 },
 "nbformat": 4,
 "nbformat_minor": 2
}
