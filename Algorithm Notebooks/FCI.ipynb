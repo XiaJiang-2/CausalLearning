{
 "cells": [
  {
   "cell_type": "code",
   "execution_count": 2,
   "metadata": {},
   "outputs": [],
   "source": [
    "from causallearn.search.ConstraintBased.FCI import fci\n",
    "import numpy as np\n",
    "import pandas as pd"
   ]
  },
  {
   "cell_type": "code",
   "execution_count": 3,
   "metadata": {},
   "outputs": [
    {
     "data": {
      "text/html": [
       "<div>\n",
       "<style scoped>\n",
       "    .dataframe tbody tr th:only-of-type {\n",
       "        vertical-align: middle;\n",
       "    }\n",
       "\n",
       "    .dataframe tbody tr th {\n",
       "        vertical-align: top;\n",
       "    }\n",
       "\n",
       "    .dataframe thead th {\n",
       "        text-align: right;\n",
       "    }\n",
       "</style>\n",
       "<table border=\"1\" class=\"dataframe\">\n",
       "  <thead>\n",
       "    <tr style=\"text-align: right;\">\n",
       "      <th></th>\n",
       "      <th>race    ethnicity</th>\n",
       "      <th>smoking</th>\n",
       "      <th>alcohol_useage</th>\n",
       "      <th>family_history</th>\n",
       "      <th>age_at_diagnosis</th>\n",
       "      <th>menopause_status</th>\n",
       "      <th>side</th>\n",
       "      <th>TNEG</th>\n",
       "      <th>ER</th>\n",
       "      <th>ER_percent</th>\n",
       "      <th>...</th>\n",
       "      <th>size</th>\n",
       "      <th>grade</th>\n",
       "      <th>invasive</th>\n",
       "      <th>histology2</th>\n",
       "      <th>invasive_tumor_Location</th>\n",
       "      <th>DCIS_level</th>\n",
       "      <th>re_excision</th>\n",
       "      <th>surgical_margins</th>\n",
       "      <th>MRIs_60_surgery</th>\n",
       "      <th>distant_recurrence</th>\n",
       "    </tr>\n",
       "  </thead>\n",
       "  <tbody>\n",
       "    <tr>\n",
       "      <th>0</th>\n",
       "      <td>0</td>\n",
       "      <td>0</td>\n",
       "      <td>0</td>\n",
       "      <td>0</td>\n",
       "      <td>0</td>\n",
       "      <td>0</td>\n",
       "      <td>0</td>\n",
       "      <td>0</td>\n",
       "      <td>0</td>\n",
       "      <td>0</td>\n",
       "      <td>...</td>\n",
       "      <td>0</td>\n",
       "      <td>0</td>\n",
       "      <td>0</td>\n",
       "      <td>0</td>\n",
       "      <td>0</td>\n",
       "      <td>0</td>\n",
       "      <td>0</td>\n",
       "      <td>0</td>\n",
       "      <td>0</td>\n",
       "      <td>0</td>\n",
       "    </tr>\n",
       "    <tr>\n",
       "      <th>0</th>\n",
       "      <td>0</td>\n",
       "      <td>0</td>\n",
       "      <td>1</td>\n",
       "      <td>0</td>\n",
       "      <td>1</td>\n",
       "      <td>0</td>\n",
       "      <td>0</td>\n",
       "      <td>0</td>\n",
       "      <td>0</td>\n",
       "      <td>0</td>\n",
       "      <td>...</td>\n",
       "      <td>0</td>\n",
       "      <td>1</td>\n",
       "      <td>0</td>\n",
       "      <td>0</td>\n",
       "      <td>1</td>\n",
       "      <td>1</td>\n",
       "      <td>0</td>\n",
       "      <td>0</td>\n",
       "      <td>0</td>\n",
       "      <td>1</td>\n",
       "    </tr>\n",
       "    <tr>\n",
       "      <th>0</th>\n",
       "      <td>0</td>\n",
       "      <td>0</td>\n",
       "      <td>2</td>\n",
       "      <td>1</td>\n",
       "      <td>0</td>\n",
       "      <td>1</td>\n",
       "      <td>1</td>\n",
       "      <td>0</td>\n",
       "      <td>0</td>\n",
       "      <td>0</td>\n",
       "      <td>...</td>\n",
       "      <td>1</td>\n",
       "      <td>2</td>\n",
       "      <td>0</td>\n",
       "      <td>0</td>\n",
       "      <td>0</td>\n",
       "      <td>2</td>\n",
       "      <td>1</td>\n",
       "      <td>0</td>\n",
       "      <td>0</td>\n",
       "      <td>1</td>\n",
       "    </tr>\n",
       "    <tr>\n",
       "      <th>1</th>\n",
       "      <td>0</td>\n",
       "      <td>1</td>\n",
       "      <td>1</td>\n",
       "      <td>0</td>\n",
       "      <td>2</td>\n",
       "      <td>0</td>\n",
       "      <td>1</td>\n",
       "      <td>0</td>\n",
       "      <td>0</td>\n",
       "      <td>0</td>\n",
       "      <td>...</td>\n",
       "      <td>0</td>\n",
       "      <td>1</td>\n",
       "      <td>0</td>\n",
       "      <td>1</td>\n",
       "      <td>2</td>\n",
       "      <td>3</td>\n",
       "      <td>0</td>\n",
       "      <td>0</td>\n",
       "      <td>0</td>\n",
       "      <td>1</td>\n",
       "    </tr>\n",
       "    <tr>\n",
       "      <th>1</th>\n",
       "      <td>0</td>\n",
       "      <td>0</td>\n",
       "      <td>2</td>\n",
       "      <td>2</td>\n",
       "      <td>1</td>\n",
       "      <td>0</td>\n",
       "      <td>0</td>\n",
       "      <td>0</td>\n",
       "      <td>0</td>\n",
       "      <td>0</td>\n",
       "      <td>...</td>\n",
       "      <td>0</td>\n",
       "      <td>1</td>\n",
       "      <td>0</td>\n",
       "      <td>0</td>\n",
       "      <td>0</td>\n",
       "      <td>1</td>\n",
       "      <td>0</td>\n",
       "      <td>0</td>\n",
       "      <td>1</td>\n",
       "      <td>1</td>\n",
       "    </tr>\n",
       "  </tbody>\n",
       "</table>\n",
       "<p>5 rows × 31 columns</p>\n",
       "</div>"
      ],
      "text/plain": [
       "   race    ethnicity  smoking  alcohol_useage  family_history  \\\n",
       "0                  0        0               0               0   \n",
       "0                  0        0               1               0   \n",
       "0                  0        0               2               1   \n",
       "1                  0        1               1               0   \n",
       "1                  0        0               2               2   \n",
       "\n",
       "   age_at_diagnosis  menopause_status  side  TNEG  ER  ER_percent  ...  size  \\\n",
       "0                 0                 0     0     0   0           0  ...     0   \n",
       "0                 1                 0     0     0   0           0  ...     0   \n",
       "0                 0                 1     1     0   0           0  ...     1   \n",
       "1                 2                 0     1     0   0           0  ...     0   \n",
       "1                 1                 0     0     0   0           0  ...     0   \n",
       "\n",
       "   grade  invasive  histology2  invasive_tumor_Location  DCIS_level  \\\n",
       "0      0         0           0                        0           0   \n",
       "0      1         0           0                        1           1   \n",
       "0      2         0           0                        0           2   \n",
       "1      1         0           1                        2           3   \n",
       "1      1         0           0                        0           1   \n",
       "\n",
       "   re_excision  surgical_margins  MRIs_60_surgery  distant_recurrence  \n",
       "0            0                 0                0                   0  \n",
       "0            0                 0                0                   1  \n",
       "0            1                 0                0                   1  \n",
       "1            0                 0                0                   1  \n",
       "1            0                 0                1                   1  \n",
       "\n",
       "[5 rows x 31 columns]"
      ]
     },
     "execution_count": 3,
     "metadata": {},
     "output_type": "execute_result"
    }
   ],
   "source": [
    "df = pd.read_csv(\"sample_data\\LSM-15Year.txt\", sep=\"\\t\")\n",
    "df.head()"
   ]
  },
  {
   "cell_type": "code",
   "execution_count": 4,
   "metadata": {},
   "outputs": [
    {
     "name": "stdout",
     "output_type": "stream",
     "text": [
      "Starting Fast Adjacency Search.\n"
     ]
    },
    {
     "name": "stderr",
     "output_type": "stream",
     "text": [
      "Depth=7, working on node 30: 100%|██████████| 31/31 [00:00<00:00, 373.59it/s]\n"
     ]
    },
    {
     "name": "stdout",
     "output_type": "stream",
     "text": [
      "Finishing Fast Adjacency Search.\n",
      "X9 --> X8\n",
      "X9 --> X13\n",
      "X9 --> X23\n",
      "X13 --> X23\n",
      "X19 --> X17\n",
      "X24 --> X17\n",
      "X20 --> X19\n",
      "X20 --> X22\n",
      "X20 --> X24\n",
      "X22 --> X23\n",
      "X31 --> X23\n"
     ]
    }
   ],
   "source": [
    "data = df.to_numpy()\n",
    "G, edges = fci(data)"
   ]
  },
  {
   "cell_type": "code",
   "execution_count": 5,
   "metadata": {},
   "outputs": [],
   "source": [
    "from causallearn.utils.GraphUtils import GraphUtils"
   ]
  },
  {
   "cell_type": "code",
   "execution_count": 6,
   "metadata": {},
   "outputs": [
    {
     "data": {
      "text/plain": [
       "Index(['race    ethnicity', 'smoking', 'alcohol_useage', 'family_history',\n",
       "       'age_at_diagnosis', 'menopause_status', 'side', 'TNEG', 'ER',\n",
       "       'ER_percent', 'PR', 'PR_percent', 'P53', 'HER2', 't_tnm_stage',\n",
       "       'n_tnm_stage', 'stage', 'lymph_node_removed', 'lymph_node_positive',\n",
       "       'lymph_node_status', 'Histology', 'size', 'grade', 'invasive',\n",
       "       'histology2', 'invasive_tumor_Location', 'DCIS_level', 're_excision',\n",
       "       'surgical_margins', 'MRIs_60_surgery', 'distant_recurrence'],\n",
       "      dtype='object')"
      ]
     },
     "execution_count": 6,
     "metadata": {},
     "output_type": "execute_result"
    }
   ],
   "source": [
    "labels = df.columns\n",
    "labels"
   ]
  },
  {
   "cell_type": "code",
   "execution_count": null,
   "metadata": {},
   "outputs": [],
   "source": [
    "pdy = GraphUtils.to_pydot(G, labels=labels)\n",
    "pdy.write_png('Outputs/FCI_Output.png')"
   ]
  }
 ],
 "metadata": {
  "kernelspec": {
   "display_name": "Python 3",
   "language": "python",
   "name": "python3"
  },
  "language_info": {
   "codemirror_mode": {
    "name": "ipython",
    "version": 3
   },
   "file_extension": ".py",
   "mimetype": "text/x-python",
   "name": "python",
   "nbconvert_exporter": "python",
   "pygments_lexer": "ipython3",
   "version": "3.11.0"
  },
  "orig_nbformat": 4,
  "vscode": {
   "interpreter": {
    "hash": "c261aea317cc0286b3b3261fbba9abdec21eaa57589985bb7a274bf54d6cc0a7"
   }
  }
 },
 "nbformat": 4,
 "nbformat_minor": 2
}
